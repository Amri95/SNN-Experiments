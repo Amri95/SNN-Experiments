{
 "cells": [
  {
   "cell_type": "markdown",
   "metadata": {},
   "source": [
    "# Improving the resolution of population coding by the use of multiple layers"
   ]
  },
  {
   "cell_type": "markdown",
   "metadata": {},
   "source": [
    "Ricardo de Azambuja - CRNS - Plymouth University"
   ]
  },
  {
   "cell_type": "markdown",
   "metadata": {},
   "source": [
    "## Abstract\n",
    "A population code scheme as used in [Joshi and Maass, “Movement Generation with Circuits of Spiking Neurons.” and ???] simplifies the process of converting real values to a neural coding that can be applied to Spiking Neural Networks (SNN). This type of neural code has the special quality of keeping the energy contained in the input signal always the same among all the possible values avoiding the generation of a bias related to the number of spikes received. Notheless its simplicity it needs a large number of neurons if a fine scale is used. The human brain with its about 100 billion neurons could afford such an expensive scheme for a fine scaled code, but when a smaller animal as the fruit fly, with has approximatelly 100 thousand times less neurons, is analized, such a simple code could start to become a problem due to the need to precise movements as the ones necessary to fly and escape from a predator. Artificial implementations of neural network models also normally don't have enough computational resources to spend in a huge number of neurons in the input layer. The resolution, or the message space, can be greatly improved using the same number of neurons, but interpreting them as a multilayered system. The results from this work show that from an input layer made of 50 neurons instead of the same number of possible values as the number of neurons it's possible to have up to 100,000 values keeping the same energy profile and considerably improving the resolution of the system."
   ]
  },
  {
   "cell_type": "markdown",
   "metadata": {},
   "source": [
    "## Introduction\n",
    "\n",
    "- The most classical citation of population code related with motor control: Georgopoulos, Kettner, and Schwartz, “Neuronal Population Coding of Movement Direction.”"
   ]
  },
  {
   "cell_type": "markdown",
   "metadata": {},
   "source": [
    "### Explanations about the way the inputs are being coded using my multilayer population code\n",
    "\n",
    "\n",
    "This type of code can generate 100.000 combinations versus 50 combinations a normal population code is able to generate using 50 neurons. Also with this multilayer population code it's easier to insert noise because there is a relationship between the position of the neuron and the value change associated to the neuron.  \n",
    "\n",
    "In the case of the xdext variable, the input goes from neuron 0 up to neuron 49. The first 10 neurons (0 to 9) control the most significative digit and the last 10 neurons (40 to 49) control the last significative digit.  \n",
    "\n",
    "Here I'm using a code a little bit different: instead of coding directly the number, I'm coding the position related to the range array of each variable. Even though I still have the same relationship between the digits, but now this relation is not 10x considering the final value. The 10x relation is with the index, but because the values are generated in a linear way, at the end it is 10x too with the initial value different from zero!  \n",
    "\n",
    "**Population code takes too many neurons to get a good resolution:**  \n",
    "Mixing with frequency/time(phase) could increase substantially the resolution, but the frequency is limited - at least - by the refractory period (between 2 and 3ms or 500 and 333.33Hz). Also in a simulation the size of the time step limits the maximum frequency in the input code.    \n",
    "Looking for the brain waves frequencies, I've found that the Beta waves (between 16 and 31Hz) are associated with motor cortex and muscles activities (Baker 2007). Also the Gamma waves were observed to have frequencies from 40 up to 120Hz (Quyen et al. 2010). If I stick to the Beta waves because they have a direct relationship to motor cortex I would have another justification because membrane model (low-pass filter / integrator) is not going to filter out these frequencies. Considering the simulation time step, Nyquist–Shannon theorem tells us that the sampling must be at least twice as fast as the highest frequency. With a simulation time step of only 1ms the maximum frequency could be up to 500Hz. Right now I'm using a time step of 0.2ms, so the phase difference between two codes MUST be at least TWICE this value. The period of a 16Hz wave is 62.5ms, so to be able to distinguish between two different frequencies the system needs to wait 62.5ms until the possible second spike would arrive. This creates a barrier to the dynamic response of the system: the commands and feedbacks must have a maximum frequency smaller than 16Hz.\n",
    "  Human reaction time to click a mouse button is, in average, 260ms (or about 4Hz).\n",
    "  According to (Tim Wescott 2014): \"The rule of thumb for sampled-time control systems is to choose a sampling rate equal to ten or twenty times your desired system bandwidth.\"  \n",
    "**Another way to increase the resolution of a population code scheme** is creating more than one layer. The first one would be the biggest multiplier, the second a smaller, etc. As an example, if the first layer has 25 neurons, the fine distance between them could be represented by another layer with 25 neurons and now the resolution becomes $25*25=625$. If another layer is introduced with 25 neurons, it is possible to achieve an final resolution of $25*25*25=15625$. Using a unique layer with $25+25+25=75$ neurons, and each neuron representing a position, the maximum resolution would be of 75 points! A good thing about this idea is that the number of neurons that are spiking at the same time is kept constant if the first neuron of the finer layer has the value zero. \n",
    "  \n",
    "  \n",
    "  This two ideas are important to the implementation of a continuous learning scheme:\n",
    "  \n",
    "  http://en.wikipedia.org/wiki/Hick%27s_law\n",
    "  \n",
    "  http://en.wikipedia.org/wiki/Power_law_of_practice"
   ]
  },
  {
   "cell_type": "code",
   "execution_count": 1,
   "metadata": {
    "collapsed": true
   },
   "outputs": [],
   "source": [
    "import numpy\n",
    "\n",
    "# Creates an array with the digits in a fixed (5) length\n",
    "# The function can accept integers and 1D numpy.arrays.\n",
    "# With integers it returns a 1D numpy.array\n",
    "# With 1D numpy.arrays it returns a multiple lines numpy.array\n",
    "def find_code(n):\n",
    "    if type(n)==numpy.ndarray:\n",
    "        ans = []\n",
    "        for i in n:\n",
    "            ans.append(numpy.array(list(str(i).zfill(5))).astype(dtype=int))\n",
    "        return numpy.array(ans)\n",
    "    else:\n",
    "        return numpy.array(list(str(n).zfill(5))).astype(dtype=int)"
   ]
  },
  {
   "cell_type": "code",
   "execution_count": 2,
   "metadata": {
    "collapsed": false
   },
   "outputs": [
    {
     "data": {
      "text/plain": [
       "(array([6, 5, 4, 9, 2]), array([[0, 0, 0, 0, 1],\n",
       "        [0, 0, 0, 0, 2],\n",
       "        [0, 0, 0, 0, 3]]))"
      ]
     },
     "execution_count": 2,
     "metadata": {},
     "output_type": "execute_result"
    }
   ],
   "source": [
    "find_code(65492), find_code(numpy.array([1,2,3]))"
   ]
  },
  {
   "cell_type": "code",
   "execution_count": 6,
   "metadata": {
    "collapsed": false
   },
   "outputs": [],
   "source": [
    "# The input (one big neurongroup with 300 neurons) will be divided like this:\n",
    "# 6 groups of 50 neurons.\n",
    "# And each group of 50 neurons is divided in 5 groups of 10 neurons.\n",
    "# Therefore each digit will be encoded in 10 neurons.\n",
    "# Example: \n",
    "# xdest=12345 => [1,12,23,34,45]\n",
    "# ydest=00324 => [50,60,73,82,94]\n",
    "#\n",
    "# With this type of code the idea of \"neuron more significative\" is implemented and\n",
    "# becomes a lot easier to insert a small amount of noise into the system.\n",
    "#\n",
    "# - Group 1: xdest => main offset:0\n",
    "# - Group 2: ydest => main offset:50\n",
    "# - Group 3: teta1 => main offset:100\n",
    "# - Group 4: teta2 => main offset:150\n",
    "# - Group 5: tau1  => main offset:200\n",
    "# - Group 6: tau2  => main offset:250\n",
    "# \n",
    "# find_code(number=12345) simply creates an numpy.array([1,2,3,4,5]) and the codification is actually\n",
    "# done by the offset of numpy.arange(init,final,10)\n",
    "\n",
    "xdest_lsm = find_code(xdest_idx) + numpy.arange(0,50,10)\n",
    "ydest_lsm = find_code(ydest_idx) + numpy.arange(50,100,10)\n",
    "teta1_lsm = find_code(joint_states_idx[:,0]) + numpy.arange(100,150,10)\n",
    "teta2_lsm = find_code(joint_states_idx[:,1]) + numpy.arange(150,200,10)\n",
    "tau1_lsm = find_code(torques_normalized_idx[:,0]) + numpy.arange(200,250,10)\n",
    "tau2_lsm = find_code(torques_normalized_idx[:,1]) + numpy.arange(250,300,10)\n",
    "\n",
    "#\n",
    "# At the end this is the same idea I had before where I always made sure a fixed number of neurons spiked \n",
    "# for each code representation."
   ]
  },
  {
   "cell_type": "code",
   "execution_count": 9,
   "metadata": {
    "collapsed": false
   },
   "outputs": [
    {
     "data": {
      "text/plain": [
       "array([ 0, 10, 20, 30, 40])"
      ]
     },
     "execution_count": 9,
     "metadata": {},
     "output_type": "execute_result"
    }
   ],
   "source": [
    "numpy.arange(0,50,10)"
   ]
  },
  {
   "cell_type": "code",
   "execution_count": 7,
   "metadata": {
    "collapsed": false
   },
   "outputs": [
    {
     "data": {
      "text/plain": [
       "array([ 5, 14, 23, 32, 41])"
      ]
     },
     "execution_count": 7,
     "metadata": {},
     "output_type": "execute_result"
    }
   ],
   "source": [
    "find_code(54321) + numpy.arange(0,50,10)"
   ]
  },
  {
   "cell_type": "code",
   "execution_count": 10,
   "metadata": {
    "collapsed": false
   },
   "outputs": [
    {
     "data": {
      "text/plain": [
       "array([50, 60, 70, 80, 90])"
      ]
     },
     "execution_count": 10,
     "metadata": {},
     "output_type": "execute_result"
    }
   ],
   "source": [
    "numpy.arange(50,100,10)"
   ]
  },
  {
   "cell_type": "code",
   "execution_count": 11,
   "metadata": {
    "collapsed": false
   },
   "outputs": [
    {
     "data": {
      "text/plain": [
       "array([55, 64, 73, 82, 91])"
      ]
     },
     "execution_count": 11,
     "metadata": {},
     "output_type": "execute_result"
    }
   ],
   "source": [
    "find_code(54321) + numpy.arange(50,100,10)"
   ]
  },
  {
   "cell_type": "code",
   "execution_count": null,
   "metadata": {
    "collapsed": true
   },
   "outputs": [],
   "source": []
  }
 ],
 "metadata": {
  "kernelspec": {
   "display_name": "Python 2",
   "language": "python",
   "name": "python2"
  },
  "language_info": {
   "codemirror_mode": {
    "name": "ipython",
    "version": 2
   },
   "file_extension": ".py",
   "mimetype": "text/x-python",
   "name": "python",
   "nbconvert_exporter": "python",
   "pygments_lexer": "ipython2",
   "version": "2.7.10"
  }
 },
 "nbformat": 4,
 "nbformat_minor": 0
}
